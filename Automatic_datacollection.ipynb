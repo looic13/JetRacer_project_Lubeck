{
 "cells": [
  {
   "cell_type": "code",
   "execution_count": 1,
   "id": "permanent-while",
   "metadata": {},
   "outputs": [],
   "source": [
    "from jetcam.csi_camera import CSICamera\n",
    "camera = CSICamera(width=224, height=224)\n",
    "camera.running = True"
   ]
  },
  {
   "cell_type": "code",
   "execution_count": 2,
   "id": "super-sewing",
   "metadata": {},
   "outputs": [],
   "source": [
    "from jetracer.nvidia_racecar import NvidiaRacecar\n",
    "car = NvidiaRacecar()"
   ]
  },
  {
   "cell_type": "markdown",
   "id": "tribal-resource",
   "metadata": {},
   "source": [
    "### Please connect controller before execute next cells"
   ]
  },
  {
   "cell_type": "code",
   "execution_count": 3,
   "id": "physical-comfort",
   "metadata": {},
   "outputs": [
    {
     "data": {
      "application/vnd.jupyter.widget-view+json": {
       "model_id": "79f38185720b4c03821f991f411fffc5",
       "version_major": 2,
       "version_minor": 0
      },
      "text/plain": [
       "Controller()"
      ]
     },
     "metadata": {},
     "output_type": "display_data"
    }
   ],
   "source": [
    "import ipywidgets.widgets as widgets\n",
    "\n",
    "controller = widgets.Controller(index=0)  # replace with index of your controller\n",
    "display(controller)\n"
   ]
  },
  {
   "cell_type": "code",
   "execution_count": 10,
   "id": "voluntary-ministry",
   "metadata": {},
   "outputs": [],
   "source": [
    "car.throttle_gain = 0.2\n",
    "car.steering_offset=+0.2\n",
    "car.steering = 0"
   ]
  },
  {
   "cell_type": "code",
   "execution_count": 5,
   "id": "dress-citizenship",
   "metadata": {},
   "outputs": [],
   "source": [
    "import time\n",
    "import numpy as np\n",
    "import traitlets\n",
    "left_link = traitlets.dlink((controller.axes[0], 'value'), (car, 'steering'), transform=lambda x: x)\n",
    "#right_link = traitlets.dlink((controller.axes[1], 'value'), (car, 'throttle'), transform=lambda x: -x)\n",
    "go_straight= traitlets.dlink((controller.buttons[0], 'value'), (car, 'throttle'), transform=lambda x: x)\n",
    "#go_back= traitlets.dlink((controller.buttons[6], 'value'), (car, 'throttle'), transform=lambda x: -x)\n"
   ]
  },
  {
   "cell_type": "code",
   "execution_count": 11,
   "id": "conscious-senate",
   "metadata": {},
   "outputs": [
    {
     "name": "stdout",
     "output_type": "stream",
     "text": [
      "Directories not created because they already exist\n"
     ]
    }
   ],
   "source": [
    "import uuid\n",
    "import sys\n",
    "import time\n",
    "import os\n",
    "import cv2\n",
    "DATASETDIR='road_following_testautomatic3'\n",
    "\n",
    "try:\n",
    "    os.makedirs(DATASETDIR)\n",
    "    os.makedirs(DATASETDIR+'/apex')\n",
    "except FileExistsError:\n",
    "    print('Directories not created because they already exist')\n",
    "    \n",
    "count_widget = widgets.IntText(description='nb pictures', value=len(os.listdir(DATASETDIR+'/apex')))\n",
    "\"\"\"    \n",
    "#######\n",
    "#function for taking 100 pictures in a row \n",
    "#######\n",
    "def save_snapshots(change):\n",
    "    # save snapshot when button is pressed down\n",
    "    car.throttle=0\n",
    "    image=0\n",
    "    while image!=10:\n",
    "        time.sleep(0.5)\n",
    "        xrad=car.steering\n",
    "        xpix=round(camera.width * (xrad / 2.0 + 0.5))\n",
    "        #ypix=150\n",
    "        file_path = DATASETDIR+'/apex/' + str(xpix)+'_150'+'_'+str(uuid.uuid1()) + '.jpg'\n",
    "        cv2.imwrite(file_path, camera.value)\n",
    "        image+=1\n",
    "    count_widget.value=len(os.listdir(DATASETDIR+'/apex'))\n",
    "\"\"\"\n",
    "def save_1snapshot(change):\n",
    "    # save snapshot when button is pressed down\n",
    "    if change['new']:\n",
    "\n",
    "            xrad=car.steering\n",
    "            xpix=round(camera.width * (xrad / 2.0 + 0.5))\n",
    "            #ypix=150\n",
    "            file_path = DATASETDIR+'/apex/' + str(xpix)+'_125'+'_'+str(uuid.uuid1()) + '.jpg'\n",
    "            cv2.imwrite(file_path, camera.value)\n",
    "    count_widget.value=len(os.listdir(DATASETDIR+'/apex'))\n",
    "    \n"
   ]
  },
  {
   "cell_type": "code",
   "execution_count": 7,
   "id": "burning-orbit",
   "metadata": {},
   "outputs": [
    {
     "data": {
      "application/vnd.jupyter.widget-view+json": {
       "model_id": "c1b672593b9a403eb878568905cc7998",
       "version_major": 2,
       "version_minor": 0
      },
      "text/plain": [
       "IntText(value=0, description='nb pictures')"
      ]
     },
     "metadata": {},
     "output_type": "display_data"
    }
   ],
   "source": [
    "controller.buttons[7].observe(save_1snapshot, names='value')\n",
    "display(count_widget)"
   ]
  },
  {
   "cell_type": "code",
   "execution_count": 9,
   "id": "actual-plastic",
   "metadata": {},
   "outputs": [],
   "source": [
    "for b in controller.buttons:\n",
    "    b.unobserve_all()"
   ]
  },
  {
   "cell_type": "code",
   "execution_count": 9,
   "id": "extraordinary-release",
   "metadata": {},
   "outputs": [
    {
     "ename": "AttributeError",
     "evalue": "'CSICamera' object has no attribute 'stop'",
     "output_type": "error",
     "traceback": [
      "\u001b[0;31m---------------------------------------------------------------------------\u001b[0m",
      "\u001b[0;31mAttributeError\u001b[0m                            Traceback (most recent call last)",
      "\u001b[0;32m<ipython-input-9-b0ed2353a763>\u001b[0m in \u001b[0;36m<module>\u001b[0;34m\u001b[0m\n\u001b[0;32m----> 1\u001b[0;31m \u001b[0mcamera\u001b[0m\u001b[0;34m.\u001b[0m\u001b[0mstop\u001b[0m\u001b[0;34m(\u001b[0m\u001b[0;34m)\u001b[0m\u001b[0;34m\u001b[0m\u001b[0;34m\u001b[0m\u001b[0m\n\u001b[0m",
      "\u001b[0;31mAttributeError\u001b[0m: 'CSICamera' object has no attribute 'stop'"
     ]
    }
   ],
   "source": []
  },
  {
   "cell_type": "code",
   "execution_count": null,
   "id": "extra-glenn",
   "metadata": {},
   "outputs": [],
   "source": []
  }
 ],
 "metadata": {
  "kernelspec": {
   "display_name": "Python 3",
   "language": "python",
   "name": "python3"
  },
  "language_info": {
   "codemirror_mode": {
    "name": "ipython",
    "version": 3
   },
   "file_extension": ".py",
   "mimetype": "text/x-python",
   "name": "python",
   "nbconvert_exporter": "python",
   "pygments_lexer": "ipython3",
   "version": "3.6.9"
  }
 },
 "nbformat": 4,
 "nbformat_minor": 5
}
