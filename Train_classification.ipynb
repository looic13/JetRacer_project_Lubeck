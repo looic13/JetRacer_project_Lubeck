{
 "cells": [
  {
   "cell_type": "markdown",
   "id": "adolescent-outline",
   "metadata": {},
   "source": [
    "### Dependencies "
   ]
  },
  {
   "cell_type": "code",
   "execution_count": 1,
   "id": "crazy-scratch",
   "metadata": {},
   "outputs": [],
   "source": [
    "import numpy as np\n",
    "import torch\n",
    "from torch import nn\n",
    "from torch import optim\n",
    "import torch.nn.functional as F\n",
    "from torchvision import datasets, transforms, models\n",
    "import os \n",
    "import matplotlib.pyplot as plt\n",
    "\n"
   ]
  },
  {
   "cell_type": "markdown",
   "id": "anonymous-discretion",
   "metadata": {},
   "source": [
    "### Split Train/Val data\n",
    "###### si '.ipynb_checkpoints' est present, \n",
    "rm -r jetracer/notebooks/classification_TRAIN/.ipynb_checkpoints "
   ]
  },
  {
   "cell_type": "code",
   "execution_count": 2,
   "id": "convinced-seattle",
   "metadata": {},
   "outputs": [
    {
     "name": "stdout",
     "output_type": "stream",
     "text": [
      "['apex']\n",
      "tensor([0.5335, 0.4134, 0.4262])\n",
      "tensor([0.1162, 0.0894, 0.0978])\n"
     ]
    }
   ],
   "source": [
    "from torch.utils.data.sampler import SubsetRandomSampler\n",
    "from meanstd import get_meanstd\n",
    "\n",
    "data_dir = 'road_following_orange_line'\n",
    "\n",
    "\n",
    "def load_split_train_test(datadir, valid_size = .2):\n",
    "    \n",
    "    \n",
    "\n",
    "    train_transforms = transforms.Compose([\n",
    "                transforms.ColorJitter(0.2, 0.2, 0.2, 0.2),\n",
    "                transforms.Resize((224, 224)),\n",
    "                #transforms.RandomCrop(32, padding=4),\n",
    "                transforms.RandomHorizontalFlip(p=0.4),\n",
    "                #transforms.RandomGrayScale(p=0.2),\n",
    "                transforms.RandomRotation(degrees=5),\n",
    "                transforms.ToTensor()\n",
    "                #transforms.Normalize([0.485, 0.456, 0.406], [0.229, 0.224, 0.225])\n",
    "                #transforms.Normalize(mean, std)\n",
    "            ])\n",
    "\n",
    "    test_transforms = transforms.Compose([\n",
    "                #transforms.ColorJitter(0.2, 0.2, 0.2, 0.2),\n",
    "                transforms.Resize((224, 224)),\n",
    "                transforms.ToTensor()\n",
    "                #transforms.Normalize([0.485, 0.456, 0.406], [0.229, 0.224, 0.225])\n",
    "                #transforms.Normalize(mean, std)\n",
    "            ])\n",
    "\n",
    "    train_data = datasets.ImageFolder(datadir,       \n",
    "                    transform=train_transforms)\n",
    "    test_data = datasets.ImageFolder(datadir,\n",
    "                    transform=test_transforms)\n",
    "\n",
    "    print(train_data.classes)\n",
    "    num_train=len(train_data)\n",
    "    indices = list(range(num_train)) #on cree une liste de 0 a nbdonnées\n",
    "    split = int(np.floor(valid_size * num_train)) #si valid size = 0.2 alors split = 20% du nombre de données\n",
    "    np.random.shuffle(indices) #on melange la liste d'indices des donnés \n",
    "    train_idx, test_idx = indices[split:], indices[:split] #on sépare les indices de données selon le pourcentage de validation\n",
    "    train_sampler = SubsetRandomSampler(train_idx)\n",
    "    test_sampler = SubsetRandomSampler(test_idx)\n",
    "    \n",
    "    trainloader = torch.utils.data.DataLoader(\n",
    "                    train_data,\n",
    "                    sampler=train_sampler, \n",
    "                    batch_size=32\n",
    "                )\n",
    "    testloader = torch.utils.data.DataLoader(\n",
    "                    test_data,\n",
    "                    sampler=test_sampler, \n",
    "                    batch_size=32\n",
    "                )\n",
    "    return trainloader, testloader\n",
    "\n",
    "trainloader, testloader = load_split_train_test(data_dir, .2)\n",
    "mean,std = get_meanstd(data_dir)\n",
    "print(mean)\n",
    "print(std)\n"
   ]
  },
  {
   "cell_type": "markdown",
   "id": "hourly-father",
   "metadata": {},
   "source": [
    "### Try GPU avaibality "
   ]
  },
  {
   "cell_type": "code",
   "execution_count": 3,
   "id": "starting-library",
   "metadata": {},
   "outputs": [],
   "source": [
    "device = torch.device(\"cuda\" if torch.cuda.is_available() else \"cpu\")"
   ]
  },
  {
   "cell_type": "markdown",
   "id": "major-bonus",
   "metadata": {},
   "source": [
    "### (function to know how much pictures for classification)"
   ]
  },
  {
   "cell_type": "code",
   "execution_count": 4,
   "id": "similar-resident",
   "metadata": {},
   "outputs": [
    {
     "name": "stdout",
     "output_type": "stream",
     "text": [
      "number pictures in apex 495\n",
      "nb total image 495\n"
     ]
    }
   ],
   "source": [
    "somme=0\n",
    "for i in os.listdir(data_dir):\n",
    "    liste_cate = os.listdir(data_dir+'/'+i)\n",
    "    somme+=len(liste_cate)\n",
    "    print('number pictures in',str(i), len(liste_cate))\n",
    "          \n",
    "print('nb total image',somme)"
   ]
  },
  {
   "cell_type": "markdown",
   "id": "decreased-discount",
   "metadata": {},
   "source": [
    "### Choose model"
   ]
  },
  {
   "cell_type": "code",
   "execution_count": 5,
   "id": "sunrise-album",
   "metadata": {},
   "outputs": [],
   "source": [
    "liste_cat = os.listdir(data_dir) #avoir une liste des dataset de classification (nombre categorie)\n",
    "output_dim=len(liste_cat)\n",
    "\n",
    "model = models.resnet18(pretrained=False)\n",
    "model.fc = torch.nn.Linear(512, output_dim)\n",
    "#model.fc= nn.Sequential(nn.Linear(512, 256), nn.ReLU(), nn.Dropout(0.2), nn.Linear(256, output_dim),nn.LogSoftmax(dim=1))\n",
    "\n",
    "loss_function=nn.CrossEntropyLoss()\n",
    "#loss_function=nn.NLLLoss()\n",
    "optimizer = optim.Adam(model.fc.parameters(),lr=0.003)\n",
    "model=model.to(device)\n",
    "#print(model)"
   ]
  },
  {
   "cell_type": "code",
   "execution_count": 6,
   "id": "imported-ratio",
   "metadata": {},
   "outputs": [
    {
     "ename": "ImportError",
     "evalue": "cannot import name 'funct_meanstd'",
     "output_type": "error",
     "traceback": [
      "\u001b[0;31m---------------------------------------------------------------------------\u001b[0m",
      "\u001b[0;31mImportError\u001b[0m                               Traceback (most recent call last)",
      "\u001b[0;32m<ipython-input-6-8d5364d257ac>\u001b[0m in \u001b[0;36m<module>\u001b[0;34m\u001b[0m\n\u001b[1;32m      1\u001b[0m \u001b[0;32mimport\u001b[0m \u001b[0mtime\u001b[0m\u001b[0;34m\u001b[0m\u001b[0;34m\u001b[0m\u001b[0m\n\u001b[0;32m----> 2\u001b[0;31m \u001b[0;32mfrom\u001b[0m \u001b[0mutils\u001b[0m \u001b[0;32mimport\u001b[0m \u001b[0mpreprocess\u001b[0m\u001b[0;34m\u001b[0m\u001b[0;34m\u001b[0m\u001b[0m\n\u001b[0m\u001b[1;32m      3\u001b[0m \u001b[0mstart_time\u001b[0m\u001b[0;34m=\u001b[0m\u001b[0mtime\u001b[0m\u001b[0;34m.\u001b[0m\u001b[0mtime\u001b[0m\u001b[0;34m(\u001b[0m\u001b[0;34m)\u001b[0m\u001b[0;34m\u001b[0m\u001b[0;34m\u001b[0m\u001b[0m\n\u001b[1;32m      4\u001b[0m \u001b[0mepochs\u001b[0m \u001b[0;34m=\u001b[0m \u001b[0;36m50\u001b[0m\u001b[0;34m\u001b[0m\u001b[0;34m\u001b[0m\u001b[0m\n\u001b[1;32m      5\u001b[0m \u001b[0msteps\u001b[0m \u001b[0;34m=\u001b[0m \u001b[0;36m0\u001b[0m\u001b[0;34m\u001b[0m\u001b[0;34m\u001b[0m\u001b[0m\n",
      "\u001b[0;32m~/jetracer/notebooks/utils.py\u001b[0m in \u001b[0;36m<module>\u001b[0;34m\u001b[0m\n\u001b[1;32m      5\u001b[0m \u001b[0;32mimport\u001b[0m \u001b[0mPIL\u001b[0m\u001b[0;34m.\u001b[0m\u001b[0mImage\u001b[0m\u001b[0;34m\u001b[0m\u001b[0;34m\u001b[0m\u001b[0m\n\u001b[1;32m      6\u001b[0m \u001b[0;32mimport\u001b[0m \u001b[0mnumpy\u001b[0m \u001b[0;32mas\u001b[0m \u001b[0mnp\u001b[0m\u001b[0;34m\u001b[0m\u001b[0;34m\u001b[0m\u001b[0m\n\u001b[0;32m----> 7\u001b[0;31m \u001b[0;32mfrom\u001b[0m \u001b[0mmeanstd\u001b[0m \u001b[0;32mimport\u001b[0m \u001b[0mfunct_meanstd\u001b[0m\u001b[0;34m\u001b[0m\u001b[0;34m\u001b[0m\u001b[0m\n\u001b[0m\u001b[1;32m      8\u001b[0m \u001b[0;31m#meann,stdd=funct_meanstd('road_following_orange_line')\u001b[0m\u001b[0;34m\u001b[0m\u001b[0;34m\u001b[0m\u001b[0;34m\u001b[0m\u001b[0m\n\u001b[1;32m      9\u001b[0m \u001b[0;31m#mean=meann.cuda()\u001b[0m\u001b[0;34m\u001b[0m\u001b[0;34m\u001b[0m\u001b[0;34m\u001b[0m\u001b[0m\n",
      "\u001b[0;31mImportError\u001b[0m: cannot import name 'funct_meanstd'"
     ]
    }
   ],
   "source": [
    "import time\n",
    "from utils import preprocess\n",
    "start_time=time.time()\n",
    "epochs = 50\n",
    "steps = 0\n",
    "running_loss = 0\n",
    "print_every_batch = 5\n",
    "train_losses, test_losses = [], []\n",
    "\n",
    "for epoch in range(epochs):\n",
    "    for inputs, labels in trainloader:\n",
    "        steps += 1\n",
    "        \n",
    "        \n",
    "        inputs, labels = inputs.to(device), labels.to(device)\n",
    "        \n",
    "        optimizer.zero_grad()\n",
    "        \n",
    "        logps = model.forward(inputs)\n",
    "        \n",
    "        # run backpropogation to accumulate gradients\n",
    "        loss = loss_function(logps, labels)\n",
    "        loss.backward()\n",
    "        \n",
    "         # step optimizer to adjust parameters\n",
    "        optimizer.step()\n",
    "        \n",
    "        running_loss += loss.item()\n",
    "        \n",
    "        if steps % print_every_batch == 0:\n",
    "            test_loss = 0\n",
    "            accuracy = 0\n",
    "            model.eval() \n",
    "            with torch.no_grad():\n",
    "                for inputs, labels in testloader:\n",
    "                    inputs, labels = inputs.to(device),labels.to(device)\n",
    "                    logps = model.forward(inputs)\n",
    "                    batch_loss = loss_function(logps, labels)\n",
    "                    test_loss += batch_loss.item()\n",
    "                    \n",
    "                    ps = torch.exp(logps)\n",
    "                    top_p, top_class = ps.topk(1, dim=1)\n",
    "                    equals = top_class == labels.view(*top_class.shape)\n",
    "                    accuracy += torch.mean(equals.type(torch.FloatTensor)).item()\n",
    "            train_losses.append(running_loss/len(trainloader))\n",
    "            test_losses.append(test_loss/len(testloader))                    \n",
    "            print(f\"Epoch {epoch+1}/{epochs}.. \"\n",
    "                  f\"Avancement_epoch {(((steps/len(trainloader))*100)-(100*epoch)):.1f}%..\"\n",
    "                  f\"Train_loss: {running_loss/print_every_batch:.3f}.. \"\n",
    "                  f\"Test_loss: {test_loss/len(testloader):.3f}.. \"\n",
    "                  f\"Test_accuracy: {accuracy/len(testloader):.3f}\")\n",
    "            \n",
    "            running_loss = 0\n",
    "            model.train()\n",
    "            \n",
    "print('temps total d\\'exectution : ', time.time()-start_time)"
   ]
  },
  {
   "cell_type": "code",
   "execution_count": null,
   "id": "driving-weekly",
   "metadata": {},
   "outputs": [],
   "source": [
    "plt.plot(np.linspace(0,epochs,len(train_losses)),train_losses, label='Training loss')\n",
    "plt.plot(np.linspace(0,epochs,len(test_losses)),test_losses, label='Validation loss')\n",
    "plt.xticks(range(0,epochs+1,10))\n",
    "plt.xlabel('Epoch')\n",
    "plt.ylabel('Loss')\n",
    "plt.legend(frameon=False)\n",
    "plt.show()\n",
    "from statistics import mean\n",
    "print(mean(train_losses))\n",
    "print(mean(test_losses))"
   ]
  },
  {
   "cell_type": "code",
   "execution_count": null,
   "id": "collectible-checklist",
   "metadata": {},
   "outputs": [],
   "source": [
    "torch.save(model.state_dict(), 'classification_nonormalize_mix_5cat_50epochs_TennisRlineHandStaplerMug.pth')"
   ]
  },
  {
   "cell_type": "code",
   "execution_count": null,
   "id": "hairy-bunny",
   "metadata": {},
   "outputs": [],
   "source": []
  },
  {
   "cell_type": "code",
   "execution_count": null,
   "id": "naked-culture",
   "metadata": {},
   "outputs": [],
   "source": []
  }
 ],
 "metadata": {
  "kernelspec": {
   "display_name": "Python 3",
   "language": "python",
   "name": "python3"
  },
  "language_info": {
   "codemirror_mode": {
    "name": "ipython",
    "version": 3
   },
   "file_extension": ".py",
   "mimetype": "text/x-python",
   "name": "python",
   "nbconvert_exporter": "python",
   "pygments_lexer": "ipython3",
   "version": "3.6.9"
  }
 },
 "nbformat": 4,
 "nbformat_minor": 5
}
