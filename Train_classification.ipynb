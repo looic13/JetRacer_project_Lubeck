{
 "cells": [
  {
   "cell_type": "markdown",
   "id": "executed-emission",
   "metadata": {},
   "source": [
    "### Dependencies "
   ]
  },
  {
   "cell_type": "code",
   "execution_count": 2,
   "id": "further-addiction",
   "metadata": {},
   "outputs": [],
   "source": [
    "import numpy as np\n",
    "import torch\n",
    "from torch import nn\n",
    "from torch import optim\n",
    "import torch.nn.functional as F\n",
    "from torchvision import datasets, transforms, models\n",
    "import os \n",
    "import matplotlib.pyplot as plt\n",
    "\n"
   ]
  },
  {
   "cell_type": "markdown",
   "id": "ready-alignment",
   "metadata": {},
   "source": [
    "### Split Train/Val data\n",
    "###### si '.ipynb_checkpoints' est present, rm -r jetracer/notebooks/classification_TRAIN/.ipynb_checkpoints et verifier .gitignore"
   ]
  },
  {
   "cell_type": "code",
   "execution_count": 3,
   "id": "ruled-reynolds",
   "metadata": {},
   "outputs": [
    {
     "name": "stdout",
     "output_type": "stream",
     "text": [
      "['Mug', 'Rline', 'Stapler', 'TennisBall', 'Thumbup']\n"
     ]
    }
   ],
   "source": [
    "from torch.utils.data.sampler import SubsetRandomSampler\n",
    "from meanstd import funct_meanstd\n",
    "\n",
    "data_dir = 'classification_TRAIN'\n",
    "mean,std = funct_meanstd(data_dir)\n",
    "\n",
    "def load_split_train_test(datadir, valid_size = .3):\n",
    "    \n",
    "    \n",
    "\n",
    "    train_transforms = transforms.Compose([\n",
    "                transforms.ColorJitter(0.2, 0.2, 0.2, 0.2),\n",
    "                transforms.Resize((224, 224)),\n",
    "                #transforms.RandomCrop(32, padding=4),\n",
    "                transforms.RandomHorizontalFlip(),\n",
    "                transforms.RandomRotation(degrees=5),\n",
    "                transforms.ToTensor(),\n",
    "                #transforms.Normalize([0.485, 0.456, 0.406], [0.229, 0.224, 0.225])\n",
    "                #transforms.Normalize(mean, std)\n",
    "            ])\n",
    "\n",
    "    test_transforms = transforms.Compose([\n",
    "                #transforms.ColorJitter(0.2, 0.2, 0.2, 0.2),\n",
    "                transforms.Resize((224, 224)),\n",
    "                transforms.ToTensor(),\n",
    "                #transforms.Normalize([0.485, 0.456, 0.406], [0.229, 0.224, 0.225])\n",
    "                #transforms.Normalize(mean, std)\n",
    "            ])\n",
    "\n",
    "    train_data = datasets.ImageFolder(datadir,       \n",
    "                    transform=train_transforms)\n",
    "    test_data = datasets.ImageFolder(datadir,\n",
    "                    transform=test_transforms)\n",
    "\n",
    "    print(train_data.classes)\n",
    "    num_train=len(train_data)\n",
    "    indices = list(range(num_train)) #on cree une liste de 0 a nbdonnées\n",
    "    split = int(np.floor(valid_size * num_train)) #si valid size = 0.2 alors split = 20% du nombre de données\n",
    "    np.random.shuffle(indices) #on melange la liste d'indices des donnés \n",
    "    train_idx, test_idx = indices[split:], indices[:split] #on sépare les indices de données selon le pourcentage de validation\n",
    "    train_sampler = SubsetRandomSampler(train_idx)\n",
    "    test_sampler = SubsetRandomSampler(test_idx)\n",
    "    \n",
    "    trainloader = torch.utils.data.DataLoader(\n",
    "                    train_data,\n",
    "                    sampler=train_sampler, \n",
    "                    batch_size=32\n",
    "                )\n",
    "    testloader = torch.utils.data.DataLoader(\n",
    "                    test_data,\n",
    "                    sampler=test_sampler, \n",
    "                    batch_size=32\n",
    "                )\n",
    "    return trainloader, testloader\n",
    "\n",
    "trainloader, testloader = load_split_train_test(data_dir, .2)\n"
   ]
  },
  {
   "cell_type": "markdown",
   "id": "developmental-paper",
   "metadata": {},
   "source": [
    "### Try GPU avaibality "
   ]
  },
  {
   "cell_type": "code",
   "execution_count": 4,
   "id": "endangered-helen",
   "metadata": {},
   "outputs": [],
   "source": [
    "device = torch.device(\"cuda\" if torch.cuda.is_available() else \"cpu\")"
   ]
  },
  {
   "cell_type": "markdown",
   "id": "needed-circuit",
   "metadata": {},
   "source": [
    "### (function to know how much pictures for classification)"
   ]
  },
  {
   "cell_type": "code",
   "execution_count": 5,
   "id": "cutting-breed",
   "metadata": {},
   "outputs": [
    {
     "name": "stdout",
     "output_type": "stream",
     "text": [
      "number pictures in Stapler 137\n",
      "number pictures in Rline 150\n",
      "number pictures in Thumbup 151\n",
      "number pictures in TennisBall 166\n",
      "number pictures in Mug 155\n",
      "nb total image 759\n"
     ]
    }
   ],
   "source": [
    "somme=0\n",
    "for i in os.listdir(data_dir):\n",
    "    liste_cate = os.listdir(data_dir+'/'+i)\n",
    "    somme+=len(liste_cate)\n",
    "    print('number pictures in',str(i), len(liste_cate))\n",
    "          \n",
    "print('nb total image',somme)"
   ]
  },
  {
   "cell_type": "markdown",
   "id": "divided-canvas",
   "metadata": {},
   "source": [
    "### Choose model"
   ]
  },
  {
   "cell_type": "code",
   "execution_count": 5,
   "id": "altered-officer",
   "metadata": {},
   "outputs": [],
   "source": [
    "liste_cat = os.listdir(data_dir) #avoir une liste des dataset de classification (nombre categorie)\n",
    "output_dim=len(liste_cat)\n",
    "\n",
    "model = models.resnet18(pretrained=False)\n",
    "model.fc = torch.nn.Linear(512, output_dim)\n",
    "#model.fc= nn.Sequential(nn.Linear(512, 256), nn.ReLU(), nn.Dropout(0.2), nn.Linear(256, output_dim),nn.LogSoftmax(dim=1))\n",
    "\n",
    "loss_function=nn.CrossEntropyLoss()\n",
    "#loss_function=nn.NLLLoss()\n",
    "optimizer = optim.Adam(model.fc.parameters(),lr=0.003)\n",
    "model=model.to(device)\n",
    "#print(model)"
   ]
  },
  {
   "cell_type": "code",
   "execution_count": 6,
   "id": "controlled-canyon",
   "metadata": {},
   "outputs": [
    {
     "name": "stdout",
     "output_type": "stream",
     "text": [
      "Epoch 1/20.. Avancement_epoch 71.4%..Train_loss: 0.968.. Test_loss: 0.766.. Test_accuracy: 0.360\n",
      "Epoch 2/20.. Avancement_epoch 42.9%..Train_loss: 0.754.. Test_loss: 0.690.. Test_accuracy: 0.451\n",
      "Epoch 3/20.. Avancement_epoch 14.3%..Train_loss: 0.721.. Test_loss: 0.844.. Test_accuracy: 0.403\n",
      "Epoch 3/20.. Avancement_epoch 85.7%..Train_loss: 0.721.. Test_loss: 0.733.. Test_accuracy: 0.435\n",
      "Epoch 4/20.. Avancement_epoch 57.1%..Train_loss: 0.678.. Test_loss: 0.985.. Test_accuracy: 0.435\n",
      "Epoch 5/20.. Avancement_epoch 28.6%..Train_loss: 0.700.. Test_loss: 0.737.. Test_accuracy: 0.414\n",
      "Epoch 5/20.. Avancement_epoch 100.0%..Train_loss: 0.785.. Test_loss: 1.030.. Test_accuracy: 0.414\n",
      "Epoch 6/20.. Avancement_epoch 71.4%..Train_loss: 0.662.. Test_loss: 0.811.. Test_accuracy: 0.403\n",
      "Epoch 7/20.. Avancement_epoch 42.9%..Train_loss: 0.593.. Test_loss: 0.852.. Test_accuracy: 0.414\n",
      "Epoch 8/20.. Avancement_epoch 14.3%..Train_loss: 0.619.. Test_loss: 0.803.. Test_accuracy: 0.403\n",
      "Epoch 8/20.. Avancement_epoch 85.7%..Train_loss: 0.647.. Test_loss: 0.799.. Test_accuracy: 0.414\n",
      "Epoch 9/20.. Avancement_epoch 57.1%..Train_loss: 0.641.. Test_loss: 0.771.. Test_accuracy: 0.435\n",
      "Epoch 10/20.. Avancement_epoch 28.6%..Train_loss: 0.651.. Test_loss: 0.618.. Test_accuracy: 0.749\n",
      "Epoch 10/20.. Avancement_epoch 100.0%..Train_loss: 0.617.. Test_loss: 0.728.. Test_accuracy: 0.392\n",
      "Epoch 11/20.. Avancement_epoch 71.4%..Train_loss: 0.585.. Test_loss: 0.573.. Test_accuracy: 0.859\n",
      "Epoch 12/20.. Avancement_epoch 42.9%..Train_loss: 0.587.. Test_loss: 0.587.. Test_accuracy: 0.644\n",
      "Epoch 13/20.. Avancement_epoch 14.3%..Train_loss: 0.646.. Test_loss: 0.546.. Test_accuracy: 0.942\n",
      "Epoch 13/20.. Avancement_epoch 85.7%..Train_loss: 0.577.. Test_loss: 0.523.. Test_accuracy: 1.000\n",
      "Epoch 14/20.. Avancement_epoch 57.1%..Train_loss: 0.670.. Test_loss: 0.691.. Test_accuracy: 0.408\n",
      "Epoch 15/20.. Avancement_epoch 28.6%..Train_loss: 0.694.. Test_loss: 0.500.. Test_accuracy: 0.613\n",
      "Epoch 15/20.. Avancement_epoch 100.0%..Train_loss: 0.708.. Test_loss: 0.654.. Test_accuracy: 0.456\n",
      "Epoch 16/20.. Avancement_epoch 71.4%..Train_loss: 0.548.. Test_loss: 0.485.. Test_accuracy: 0.675\n",
      "Epoch 17/20.. Avancement_epoch 42.9%..Train_loss: 0.532.. Test_loss: 0.536.. Test_accuracy: 0.770\n",
      "Epoch 18/20.. Avancement_epoch 14.3%..Train_loss: 0.523.. Test_loss: 0.504.. Test_accuracy: 0.911\n",
      "Epoch 18/20.. Avancement_epoch 85.7%..Train_loss: 0.526.. Test_loss: 0.508.. Test_accuracy: 0.890\n",
      "Epoch 19/20.. Avancement_epoch 57.1%..Train_loss: 0.510.. Test_loss: 0.459.. Test_accuracy: 1.000\n",
      "Epoch 20/20.. Avancement_epoch 28.6%..Train_loss: 0.519.. Test_loss: 0.631.. Test_accuracy: 0.471\n",
      "Epoch 20/20.. Avancement_epoch 100.0%..Train_loss: 0.551.. Test_loss: 0.442.. Test_accuracy: 0.984\n",
      "temps total d'exectution :  403.27857851982117\n"
     ]
    }
   ],
   "source": [
    "import time\n",
    "from utils import preprocess\n",
    "start_time=time.time()\n",
    "epochs = 20\n",
    "steps = 0\n",
    "running_loss = 0\n",
    "print_every_batch = 5\n",
    "train_losses, test_losses = [], []\n",
    "\n",
    "for epoch in range(epochs):\n",
    "    for inputs, labels in trainloader:\n",
    "        steps += 1\n",
    "        \n",
    "        \n",
    "        inputs, labels = inputs.to(device), labels.to(device)\n",
    "        \n",
    "        optimizer.zero_grad()\n",
    "        \n",
    "        logps = model.forward(inputs)\n",
    "        \n",
    "        # run backpropogation to accumulate gradients\n",
    "        loss = loss_function(logps, labels)\n",
    "        loss.backward()\n",
    "        \n",
    "         # step optimizer to adjust parameters\n",
    "        optimizer.step()\n",
    "        \n",
    "        running_loss += loss.item()\n",
    "        \n",
    "        if steps % print_every_batch == 0:\n",
    "            test_loss = 0\n",
    "            accuracy = 0\n",
    "            model.eval() \n",
    "            with torch.no_grad():\n",
    "                for inputs, labels in testloader:\n",
    "                    inputs, labels = inputs.to(device),labels.to(device)\n",
    "                    logps = model.forward(inputs)\n",
    "                    batch_loss = loss_function(logps, labels)\n",
    "                    test_loss += batch_loss.item()\n",
    "                    \n",
    "                    ps = torch.exp(logps)\n",
    "                    top_p, top_class = ps.topk(1, dim=1)\n",
    "                    equals = top_class == labels.view(*top_class.shape)\n",
    "                    accuracy += torch.mean(equals.type(torch.FloatTensor)).item()\n",
    "            train_losses.append(running_loss/len(trainloader))\n",
    "            test_losses.append(test_loss/len(testloader))                    \n",
    "            print(f\"Epoch {epoch+1}/{epochs}.. \"\n",
    "                  f\"Avancement_epoch {(((steps/len(trainloader))*100)-(100*epoch)):.1f}%..\"\n",
    "                  f\"Train_loss: {running_loss/print_every_batch:.3f}.. \"\n",
    "                  f\"Test_loss: {test_loss/len(testloader):.3f}.. \"\n",
    "                  f\"Test_accuracy: {accuracy/len(testloader):.3f}\")\n",
    "            \n",
    "            running_loss = 0\n",
    "            model.train()\n",
    "            \n",
    "print('temps total d\\'exectution : ', time.time()-start_time)"
   ]
  },
  {
   "cell_type": "code",
   "execution_count": 7,
   "id": "played-controversy",
   "metadata": {},
   "outputs": [
    {
     "data": {
      "image/png": "[encoded data removed]",
      "text/plain": [
       "<matplotlib.figure.Figure at 0x7f18468390>"
      ]
     },
     "metadata": {
      "needs_background": "light"
     },
     "output_type": "display_data"
    },
    {
     "name": "stdout",
     "output_type": "stream",
     "text": [
      "0.45747669755804293\n",
      "0.6716555660324437\n"
     ]
    }
   ],
   "source": [
    "plt.plot(np.linspace(0,epochs,len(train_losses)),train_losses, label='Training loss')\n",
    "plt.plot(np.linspace(0,epochs,len(test_losses)),test_losses, label='Validation loss')\n",
    "plt.xticks(range(0,epochs+1,10))\n",
    "plt.xlabel('Epoch')\n",
    "plt.ylabel('Loss')\n",
    "plt.legend(frameon=False)\n",
    "plt.show()\n",
    "from statistics import mean\n",
    "print(mean(train_losses))\n",
    "print(mean(test_losses))"
   ]
  },
  {
   "cell_type": "code",
   "execution_count": 8,
   "id": "favorite-ultimate",
   "metadata": {},
   "outputs": [],
   "source": [
    "torch.save(model.state_dict(), 'classification_nonormalize_backgorund_2cat_20epochs_HandTennis.pth')"
   ]
  },
  {
   "cell_type": "code",
   "execution_count": null,
   "id": "digital-bubble",
   "metadata": {},
   "outputs": [],
   "source": []
  }
 ],
 "metadata": {
  "kernelspec": {
   "display_name": "Python 3",
   "language": "python",
   "name": "python3"
  },
  "language_info": {
   "codemirror_mode": {
    "name": "ipython",
    "version": 3
   },
   "file_extension": ".py",
   "mimetype": "text/x-python",
   "name": "python",
   "nbconvert_exporter": "python",
   "pygments_lexer": "ipython3",
   "version": "3.6.9"
  }
 },
 "nbformat": 4,
 "nbformat_minor": 5
}
